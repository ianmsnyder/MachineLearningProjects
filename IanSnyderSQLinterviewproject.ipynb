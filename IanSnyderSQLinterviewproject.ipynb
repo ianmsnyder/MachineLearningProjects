{
 "cells": [
  {
   "cell_type": "markdown",
   "metadata": {},
   "source": [
    "# Data Analyst Interview Project with SQL"
   ]
  },
  {
   "cell_type": "markdown",
   "metadata": {},
   "source": [
    "These are results of an interview project looking at fake interpreter call data with data saved on an AWS database and using PostgreSQL."
   ]
  },
  {
   "cell_type": "code",
   "execution_count": 275,
   "metadata": {},
   "outputs": [],
   "source": [
    "import psycopg2\n",
    "import pandas as pd\n",
    "import matplotlib.pyplot as plt\n",
    "import matplotlib.dates as mdates\n",
    "from scipy import stats\n",
    "import plotly.plotly as py\n",
    "import plotly.graph_objs as go\n",
    "import numpy as np"
   ]
  },
  {
   "cell_type": "code",
   "execution_count": 137,
   "metadata": {},
   "outputs": [],
   "source": [
    "conn = psycopg2.connect()# Removed to protect company information.\n",
    "cur=conn.cursor()"
   ]
  },
  {
   "cell_type": "markdown",
   "metadata": {},
   "source": [
    "## First Deliverable"
   ]
  },
  {
   "cell_type": "markdown",
   "metadata": {},
   "source": [
    "### 1. Create a list of 10 companies who use the most Spanish minutes. Include Company Name, number of Spanish minutes and the total number of minutes (all languages) in the list ordered by number of Spanish minutes"
   ]
  },
  {
   "cell_type": "code",
   "execution_count": 36,
   "metadata": {},
   "outputs": [],
   "source": [
    "cur.execute(\"\\\n",
    "SELECT company_name, \\\n",
    "SUM(CASE WHEN language='Spanish' THEN duration ELSE 0 END) \\\n",
    "AS Spanish_Minutes,SUM(duration) AS Total_Minutes \\\n",
    "FROM call_data GROUP BY company_name ORDER BY Spanish_Minutes DESC LIMIT 10\")\n",
    "rows=cur.fetchall()\n",
    "df1_1=pd.DataFrame(rows)\n",
    "df1_1.columns=[desc[0] for desc in cur.description]"
   ]
  },
  {
   "cell_type": "code",
   "execution_count": 38,
   "metadata": {},
   "outputs": [
    {
     "data": {
      "text/html": [
       "<div>\n",
       "<style scoped>\n",
       "    .dataframe tbody tr th:only-of-type {\n",
       "        vertical-align: middle;\n",
       "    }\n",
       "\n",
       "    .dataframe tbody tr th {\n",
       "        vertical-align: top;\n",
       "    }\n",
       "\n",
       "    .dataframe thead th {\n",
       "        text-align: right;\n",
       "    }\n",
       "</style>\n",
       "<table border=\"1\" class=\"dataframe\">\n",
       "  <thead>\n",
       "    <tr style=\"text-align: right;\">\n",
       "      <th></th>\n",
       "      <th>company_name</th>\n",
       "      <th>spanish_minutes</th>\n",
       "      <th>total_minutes</th>\n",
       "    </tr>\n",
       "  </thead>\n",
       "  <tbody>\n",
       "    <tr>\n",
       "      <th>0</th>\n",
       "      <td>Very Big Corp. of America</td>\n",
       "      <td>536013</td>\n",
       "      <td>2027147</td>\n",
       "    </tr>\n",
       "    <tr>\n",
       "      <th>1</th>\n",
       "      <td>Cyberdyne Systems</td>\n",
       "      <td>530378</td>\n",
       "      <td>2000845</td>\n",
       "    </tr>\n",
       "    <tr>\n",
       "      <th>2</th>\n",
       "      <td>Pied Piper</td>\n",
       "      <td>528173</td>\n",
       "      <td>2030362</td>\n",
       "    </tr>\n",
       "    <tr>\n",
       "      <th>3</th>\n",
       "      <td>Wonka Industries</td>\n",
       "      <td>522599</td>\n",
       "      <td>2039398</td>\n",
       "    </tr>\n",
       "    <tr>\n",
       "      <th>4</th>\n",
       "      <td>Stark Industries</td>\n",
       "      <td>521750</td>\n",
       "      <td>2029113</td>\n",
       "    </tr>\n",
       "    <tr>\n",
       "      <th>5</th>\n",
       "      <td>Nakatomi Trading Corp.</td>\n",
       "      <td>521681</td>\n",
       "      <td>1974943</td>\n",
       "    </tr>\n",
       "    <tr>\n",
       "      <th>6</th>\n",
       "      <td>Umbrella Corporation</td>\n",
       "      <td>521293</td>\n",
       "      <td>2026409</td>\n",
       "    </tr>\n",
       "    <tr>\n",
       "      <th>7</th>\n",
       "      <td>Oscorp</td>\n",
       "      <td>517225</td>\n",
       "      <td>2005373</td>\n",
       "    </tr>\n",
       "    <tr>\n",
       "      <th>8</th>\n",
       "      <td>Massive Dynamic</td>\n",
       "      <td>515407</td>\n",
       "      <td>1991872</td>\n",
       "    </tr>\n",
       "    <tr>\n",
       "      <th>9</th>\n",
       "      <td>Acme Corp</td>\n",
       "      <td>515033</td>\n",
       "      <td>2007459</td>\n",
       "    </tr>\n",
       "  </tbody>\n",
       "</table>\n",
       "</div>"
      ],
      "text/plain": [
       "                company_name  spanish_minutes  total_minutes\n",
       "0  Very Big Corp. of America           536013        2027147\n",
       "1          Cyberdyne Systems           530378        2000845\n",
       "2                 Pied Piper           528173        2030362\n",
       "3           Wonka Industries           522599        2039398\n",
       "4           Stark Industries           521750        2029113\n",
       "5     Nakatomi Trading Corp.           521681        1974943\n",
       "6       Umbrella Corporation           521293        2026409\n",
       "7                     Oscorp           517225        2005373\n",
       "8            Massive Dynamic           515407        1991872\n",
       "9                  Acme Corp           515033        2007459"
      ]
     },
     "execution_count": 38,
     "metadata": {},
     "output_type": "execute_result"
    }
   ],
   "source": [
    "df1_1.head(10)"
   ]
  },
  {
   "cell_type": "markdown",
   "metadata": {},
   "source": [
    "### 2. What is the average duration for Spanish, Somali and Estonian"
   ]
  },
  {
   "cell_type": "code",
   "execution_count": 44,
   "metadata": {},
   "outputs": [],
   "source": [
    "cur.close()\n",
    "cur=conn.cursor()\n",
    "cur.execute(\"\\\n",
    "SELECT language, AVG(duration) AS Average_Duration \\\n",
    "FROM call_data \\\n",
    "WHERE language='Spanish' OR language='Somali' OR language='Estonian' \\\n",
    "GROUP BY language\")\n",
    "rows=cur.fetchall()\n",
    "df1_2=pd.DataFrame(rows)\n",
    "df1_2.columns=[desc[0] for desc in cur.description]"
   ]
  },
  {
   "cell_type": "code",
   "execution_count": 45,
   "metadata": {},
   "outputs": [
    {
     "data": {
      "text/html": [
       "<div>\n",
       "<style scoped>\n",
       "    .dataframe tbody tr th:only-of-type {\n",
       "        vertical-align: middle;\n",
       "    }\n",
       "\n",
       "    .dataframe tbody tr th {\n",
       "        vertical-align: top;\n",
       "    }\n",
       "\n",
       "    .dataframe thead th {\n",
       "        text-align: right;\n",
       "    }\n",
       "</style>\n",
       "<table border=\"1\" class=\"dataframe\">\n",
       "  <thead>\n",
       "    <tr style=\"text-align: right;\">\n",
       "      <th></th>\n",
       "      <th>language</th>\n",
       "      <th>average_duration</th>\n",
       "    </tr>\n",
       "  </thead>\n",
       "  <tbody>\n",
       "    <tr>\n",
       "      <th>0</th>\n",
       "      <td>Estonian</td>\n",
       "      <td>101.3877805486284289</td>\n",
       "    </tr>\n",
       "    <tr>\n",
       "      <th>1</th>\n",
       "      <td>Somali</td>\n",
       "      <td>100.1839030722630896</td>\n",
       "    </tr>\n",
       "    <tr>\n",
       "      <th>2</th>\n",
       "      <td>Spanish</td>\n",
       "      <td>100.6170947466439047</td>\n",
       "    </tr>\n",
       "  </tbody>\n",
       "</table>\n",
       "</div>"
      ],
      "text/plain": [
       "   language      average_duration\n",
       "0  Estonian  101.3877805486284289\n",
       "1    Somali  100.1839030722630896\n",
       "2   Spanish  100.6170947466439047"
      ]
     },
     "execution_count": 45,
     "metadata": {},
     "output_type": "execute_result"
    }
   ],
   "source": [
    "df1_2.head()"
   ]
  },
  {
   "cell_type": "markdown",
   "metadata": {},
   "source": [
    "The averages are displayed in the above table."
   ]
  },
  {
   "cell_type": "markdown",
   "metadata": {},
   "source": [
    "### 3.  What is the average interpreter hold time for Spanish. What about the average interpreter hold time for all languages for the company named Hooli"
   ]
  },
  {
   "cell_type": "code",
   "execution_count": 48,
   "metadata": {},
   "outputs": [],
   "source": [
    "cur.close()\n",
    "cur=conn.cursor()\n",
    "cur.execute(\"\\\n",
    "SELECT \\\n",
    "  AVG(CASE WHEN language='Spanish' THEN interpreter_hold_time END) AS Spanish_Interpreter_Hold_Average, \\\n",
    "  AVG(CASE WHEN company_name='Hooli' THEN interpreter_hold_time END) AS Hooli_Interpreter_Hold_Average \\\n",
    "FROM call_data;\")\n",
    "rows=cur.fetchall()\n",
    "df1_3=pd.DataFrame(rows)\n",
    "df1_3.columns=[desc[0] for desc in cur.description]"
   ]
  },
  {
   "cell_type": "code",
   "execution_count": 49,
   "metadata": {},
   "outputs": [
    {
     "data": {
      "text/html": [
       "<div>\n",
       "<style scoped>\n",
       "    .dataframe tbody tr th:only-of-type {\n",
       "        vertical-align: middle;\n",
       "    }\n",
       "\n",
       "    .dataframe tbody tr th {\n",
       "        vertical-align: top;\n",
       "    }\n",
       "\n",
       "    .dataframe thead th {\n",
       "        text-align: right;\n",
       "    }\n",
       "</style>\n",
       "<table border=\"1\" class=\"dataframe\">\n",
       "  <thead>\n",
       "    <tr style=\"text-align: right;\">\n",
       "      <th></th>\n",
       "      <th>spanish_interpreter_hold_average</th>\n",
       "      <th>hooli_interpreter_hold_average</th>\n",
       "    </tr>\n",
       "  </thead>\n",
       "  <tbody>\n",
       "    <tr>\n",
       "      <th>0</th>\n",
       "      <td>45.5686091927265203</td>\n",
       "      <td>45.4307986320659827</td>\n",
       "    </tr>\n",
       "  </tbody>\n",
       "</table>\n",
       "</div>"
      ],
      "text/plain": [
       "  spanish_interpreter_hold_average hooli_interpreter_hold_average\n",
       "0              45.5686091927265203            45.4307986320659827"
      ]
     },
     "execution_count": 49,
     "metadata": {},
     "output_type": "execute_result"
    }
   ],
   "source": [
    "df1_3.head()"
   ]
  },
  {
   "cell_type": "markdown",
   "metadata": {},
   "source": [
    "The average hold time for a Spanish interpreter is 45.6 and for Hooli (all languages) is 45.4."
   ]
  },
  {
   "cell_type": "markdown",
   "metadata": {},
   "source": [
    "### 4.  When did the first Korean call occur? What about the first Korean call for the company Wayne Enterprises?"
   ]
  },
  {
   "cell_type": "code",
   "execution_count": 51,
   "metadata": {},
   "outputs": [
    {
     "name": "stdout",
     "output_type": "stream",
     "text": [
      "        company_name                call_start\n",
      "0              Hooli 2018-01-01 01:11:00+00:00\n",
      "1  Wayne Enterprises 2018-01-01 04:36:00+00:00\n"
     ]
    }
   ],
   "source": [
    "cur.close()\n",
    "cur=conn.cursor()\n",
    "cur.execute(\"\\\n",
    "(SELECT company_name, call_start FROM call_data WHERE language='Korean' \\\n",
    "ORDER BY call_start LIMIT 1) \\\n",
    "UNION ALL \\\n",
    "(SELECT company_name, call_start FROM call_data WHERE language='Korean' \\\n",
    "AND company_name='Wayne Enterprises' ORDER BY call_start LIMIT 1)\")\n",
    "rows=cur.fetchall()\n",
    "df1_4=pd.DataFrame(rows)\n",
    "df1_4.columns=[desc[0] for desc in cur.description]\n",
    "print(df1_4.head())"
   ]
  },
  {
   "cell_type": "markdown",
   "metadata": {},
   "source": [
    "The first Korean call occured on 1/1/2018 at 1:11.  The first Korean call for Wayne Enterprises was on 1/1/2018 at 4:36."
   ]
  },
  {
   "cell_type": "markdown",
   "metadata": {},
   "source": [
    "### 5.  Create a report that lists call start formatted in separate columns for date and time formatted in 12-hour format for time, language, company name, patient name, department, and duration. The report should be ordered by company and then by date and time so that the report can easily be divided and sent to the various clients."
   ]
  },
  {
   "cell_type": "code",
   "execution_count": 54,
   "metadata": {},
   "outputs": [
    {
     "name": "stdout",
     "output_type": "stream",
     "text": [
      "    call_date   call_time language company_name        patient_name  \\\n",
      "0  2018-01-01  12:02:00AM  Spanish    Acme Corp     Winnifred Madle   \n",
      "1  2018-01-01  12:04:00AM  Italian    Acme Corp       Naoma Bromige   \n",
      "2  2018-01-01  12:09:00AM  Spanish    Acme Corp     Gearalt Saunier   \n",
      "3  2018-01-01  12:10:00AM   French    Acme Corp  Trev Van den Broek   \n",
      "4  2018-01-01  12:10:00AM  Spanish    Acme Corp        Denny Amberg   \n",
      "\n",
      "        department  duration  \n",
      "0      Engineering        41  \n",
      "1            Legal       199  \n",
      "2       Accounting        96  \n",
      "3  Human Resources       159  \n",
      "4        Marketing        20  \n"
     ]
    }
   ],
   "source": [
    "cur.close()\n",
    "cur=conn.cursor()\n",
    "cur.execute(\"\\\n",
    "SELECT \\\n",
    "TO_CHAR(call_start,'YYYY-MM-DD') AS Call_Date, \\\n",
    "TO_CHAR(call_start,'hh:mi:ssAM') AS Call_Time, \\\n",
    "language, company_name, patient_name, department, duration \\\n",
    "FROM call_data ORDER BY company_name, call_start\")\n",
    "rows=cur.fetchall()\n",
    "df1_5=pd.DataFrame(rows)\n",
    "df1_5.columns=[desc[0] for desc in cur.description]\n",
    "print(df1_5.head())"
   ]
  },
  {
   "cell_type": "code",
   "execution_count": 61,
   "metadata": {},
   "outputs": [],
   "source": [
    "df1_5.to_csv('IanSnyderFirstDeliverablePart5report.csv')"
   ]
  },
  {
   "cell_type": "markdown",
   "metadata": {},
   "source": [
    "## Second Deliverable"
   ]
  },
  {
   "cell_type": "markdown",
   "metadata": {},
   "source": [
    "### Create a list of all companies and their services in two different formats \n",
    "#### i) Company Name | Service Name 1, Service Name 2  \n"
   ]
  },
  {
   "cell_type": "code",
   "execution_count": 113,
   "metadata": {},
   "outputs": [
    {
     "name": "stdout",
     "output_type": "stream",
     "text": [
      "                      name                                                                                                                                                                        service_name\n",
      "0  Hooli                    TelephoneInterpretingService,TelephoneInterpretingService,TelephoneInterpretingService                                                                                            \n",
      "1  Wayne Enterprises        ScheduledTelephoneInterpretingService,VideoInterpretingService,TelephoneInterpretingService                                                                                       \n",
      "2  Spacely Space Sprockets  DocumentTranslationService,ScheduledTelephoneInterpretingService,OnsiteInterpretingService,VideoInterpretingService,TelephoneInterpretingService                                  \n",
      "3  Stark Industries         TelephoneInterpretingService                                                                                                                                                      \n",
      "4  Acme Corp                VideoInterpretingService,ScheduledTelephoneInterpretingService,TelephoneInterpretingService,TelephoneInterpretingService,TelephoneInterpretingService,TelephoneInterpretingService\n"
     ]
    }
   ],
   "source": [
    "cur.close()\n",
    "cur=conn.cursor()\n",
    "cur.execute(\"\\\n",
    "SELECT companies.name, string_agg(services.type, ',') AS service_name \\\n",
    "FROM companies \\\n",
    "INNER JOIN services \\\n",
    "ON companies.id=services.company_id \\\n",
    "GROUP BY companies.name\")\n",
    "rows=cur.fetchall()\n",
    "df2_1i=pd.DataFrame(rows)\n",
    "df2_1i.columns=[desc[0] for desc in cur.description]\n",
    "pd.set_option('display.max_colwidth', -1)\n",
    "print(df2_1i)"
   ]
  },
  {
   "cell_type": "markdown",
   "metadata": {},
   "source": [
    "#### ii)Company Name | Service Name 1 \n",
    "#### Company Name | Service Name 2"
   ]
  },
  {
   "cell_type": "code",
   "execution_count": 75,
   "metadata": {},
   "outputs": [
    {
     "name": "stdout",
     "output_type": "stream",
     "text": [
      "                       name                           service_name\n",
      "0                 Acme Corp           TelephoneInterpretingService\n",
      "1          Stark Industries           TelephoneInterpretingService\n",
      "2   Spacely Space Sprockets             DocumentTranslationService\n",
      "3                     Hooli           TelephoneInterpretingService\n",
      "4   Spacely Space Sprockets               VideoInterpretingService\n",
      "5   Spacely Space Sprockets           TelephoneInterpretingService\n",
      "6         Wayne Enterprises  ScheduledTelephoneInterpretingService\n",
      "7         Wayne Enterprises               VideoInterpretingService\n",
      "8                 Acme Corp  ScheduledTelephoneInterpretingService\n",
      "9         Wayne Enterprises           TelephoneInterpretingService\n",
      "10  Spacely Space Sprockets              OnsiteInterpretingService\n",
      "11  Spacely Space Sprockets  ScheduledTelephoneInterpretingService\n",
      "12                Acme Corp               VideoInterpretingService\n"
     ]
    }
   ],
   "source": [
    "cur.close()\n",
    "cur=conn.cursor()\n",
    "cur.execute(\"\\\n",
    "SELECT DISTINCT companies.name, services.type AS service_name \\\n",
    "from companies INNER JOIN services \\\n",
    "ON companies.id = services.company_id\")\n",
    "rows=cur.fetchall()\n",
    "df2_1ii=pd.DataFrame(rows)\n",
    "df2_1ii.columns=[desc[0] for desc in cur.description]\n",
    "print(df2_1ii)"
   ]
  },
  {
   "cell_type": "markdown",
   "metadata": {},
   "source": [
    "### 2. Create a list of all companies that do not have any active services."
   ]
  },
  {
   "cell_type": "code",
   "execution_count": 80,
   "metadata": {},
   "outputs": [
    {
     "name": "stdout",
     "output_type": "stream",
     "text": [
      "                        name\n",
      "0          Cyberdyne Systems\n",
      "1     Nakatomi Trading Corp.\n",
      "2           Wonka Industries\n",
      "3       Umbrella Corporation\n",
      "4  Very Big Corp. of America\n",
      "5                 Pied Piper\n",
      "6                    Initech\n",
      "7            Massive Dynamic\n",
      "8                     Oscorp\n",
      "9                 Gekko & Co\n"
     ]
    }
   ],
   "source": [
    "cur.close()\n",
    "cur=conn.cursor()\n",
    "cur.execute(\"\\\n",
    "SELECT companies.name \\\n",
    "from companies FULL OUTER JOIN services \\\n",
    "ON companies.id = services.company_id \\\n",
    "WHERE services.type IS NULL\")\n",
    "rows=cur.fetchall()\n",
    "df2_2=pd.DataFrame(rows)\n",
    "df2_2.columns=[desc[0] for desc in cur.description]\n",
    "print(df2_2)"
   ]
  },
  {
   "cell_type": "markdown",
   "metadata": {},
   "source": [
    "### 3. Create a list of all companies that have Telephone Interpreting Service but do not have Scheduled Telephone Interpreting Service"
   ]
  },
  {
   "cell_type": "code",
   "execution_count": 99,
   "metadata": {},
   "outputs": [
    {
     "name": "stdout",
     "output_type": "stream",
     "text": [
      "               name\n",
      "0  Stark Industries\n",
      "1             Hooli\n"
     ]
    }
   ],
   "source": [
    "cur.close()\n",
    "cur=conn.cursor() \n",
    "#cte1 just contains telephone interpreter services, ct2e just contains scheduled telephone interpreter services\n",
    "cur.execute(\"\\\n",
    "with \\\n",
    "cte1 as( \\\n",
    "SELECT DISTINCT company_id, type \\\n",
    "FROM services \\\n",
    "WHERE ('ScheduledTelephoneInterpretingService' LIKE '%' || type || '%') AND ('TelephoneInterpretingService' LIKE '%' || type || '%') \\\n",
    "), \\\n",
    "cte2 as(\\\n",
    "SELECT DISTINCT company_id, type \\\n",
    "FROM services \\\n",
    "WHERE ('ScheduledTelephoneInterpretingService' LIKE '%' || type || '%') AND NOT ('TelephoneInterpretingService' LIKE '%' || type || '%') \\\n",
    "), \\\n",
    "cte3 as( \\\n",
    "SELECT cte1.company_id, cte1.type, cte2.type FROM cte1 \\\n",
    "FULL OUTER JOIN cte2 ON cte1.company_id=cte2.company_id \\\n",
    "WHERE cte2.type ISNULL) \\\n",
    "SELECT companies.name \\\n",
    "from companies INNER JOIN cte3 \\\n",
    "ON companies.id = cte3.company_id \")\n",
    "rows=cur.fetchall()\n",
    "df2_3=pd.DataFrame(rows)\n",
    "df2_3.columns=[desc[0] for desc in cur.description]\n",
    "print(df2_3)"
   ]
  },
  {
   "cell_type": "markdown",
   "metadata": {},
   "source": [
    "Stark Industries and Hooli have Telephone Interpreting Service but not have Scheduled Telephone Interpreting Service"
   ]
  },
  {
   "cell_type": "markdown",
   "metadata": {},
   "source": [
    "## Third Deliverable"
   ]
  },
  {
   "cell_type": "markdown",
   "metadata": {},
   "source": [
    "### 1. Create a script in either Python or R (python preferred) that does the following.  Connects to the database, grabs the data in call_data and...\n",
    "#### i) ... creates output of the following, summing duration and averaging hold time for each company by day in the data set:\n",
    "#### Company Name | Duration | Hold Time | Date"
   ]
  },
  {
   "cell_type": "code",
   "execution_count": 240,
   "metadata": {},
   "outputs": [
    {
     "name": "stdout",
     "output_type": "stream",
     "text": [
      "          company_name  duration hold_time        date\n",
      "0     Acme Corp         21595     47.53     2018-01-01\n",
      "1     Acme Corp         16128     44.30     2018-01-02\n",
      "2     Acme Corp         22091     43.00     2018-01-03\n",
      "3     Acme Corp         24776     43.89     2018-01-04\n",
      "4     Acme Corp         22497     43.57     2018-01-05\n",
      "5     Acme Corp         18715     47.24     2018-01-06\n",
      "6     Acme Corp         21467     44.79     2018-01-07\n",
      "7     Acme Corp         22519     44.64     2018-01-08\n",
      "8     Acme Corp         21040     45.75     2018-01-09\n",
      "9     Acme Corp         20794     42.91     2018-01-10\n",
      "10    Acme Corp         23383     47.09     2018-01-11\n",
      "11    Acme Corp         22830     46.98     2018-01-12\n",
      "12    Acme Corp         23108     45.23     2018-01-13\n",
      "13    Acme Corp         19462     46.33     2018-01-14\n",
      "14    Acme Corp         22264     44.89     2018-01-15\n",
      "15    Acme Corp         19751     41.78     2018-01-16\n",
      "16    Acme Corp         21934     49.70     2018-01-17\n",
      "17    Acme Corp         23499     46.33     2018-01-18\n",
      "18    Acme Corp         22637     45.70     2018-01-19\n",
      "19    Acme Corp         21366     45.40     2018-01-20\n",
      "20    Acme Corp         23495     43.21     2018-01-21\n",
      "21    Acme Corp         22171     47.20     2018-01-22\n",
      "22    Acme Corp         20928     45.48     2018-01-23\n",
      "23    Acme Corp         21379     46.86     2018-01-24\n",
      "24    Acme Corp         24427     44.39     2018-01-25\n",
      "25    Acme Corp         22354     44.19     2018-01-26\n",
      "26    Acme Corp         22369     47.15     2018-01-27\n",
      "27    Acme Corp         20655     43.02     2018-01-28\n",
      "28    Acme Corp         19696     45.75     2018-01-29\n",
      "29    Acme Corp         22204     45.73     2018-01-30\n",
      "...         ...           ...       ...            ...\n",
      "1275  Wonka Industries  23456     50.97     2018-03-01\n",
      "1276  Wonka Industries  24150     44.91     2018-03-02\n",
      "1277  Wonka Industries  25629     45.93     2018-03-03\n",
      "1278  Wonka Industries  24865     43.99     2018-03-04\n",
      "1279  Wonka Industries  23966     45.52     2018-03-05\n",
      "1280  Wonka Industries  27872     44.25     2018-03-06\n",
      "1281  Wonka Industries  22797     44.00     2018-03-07\n",
      "1282  Wonka Industries  22367     44.11     2018-03-08\n",
      "1283  Wonka Industries  22855     45.19     2018-03-09\n",
      "1284  Wonka Industries  21923     46.76     2018-03-10\n",
      "1285  Wonka Industries  17903     43.51     2018-03-11\n",
      "1286  Wonka Industries  25269     43.81     2018-03-12\n",
      "1287  Wonka Industries  24254     45.40     2018-03-13\n",
      "1288  Wonka Industries  21173     43.35     2018-03-14\n",
      "1289  Wonka Industries  26460     45.18     2018-03-15\n",
      "1290  Wonka Industries  22801     47.22     2018-03-16\n",
      "1291  Wonka Industries  23762     46.59     2018-03-17\n",
      "1292  Wonka Industries  22249     47.47     2018-03-18\n",
      "1293  Wonka Industries  23431     43.23     2018-03-19\n",
      "1294  Wonka Industries  18388     46.69     2018-03-20\n",
      "1295  Wonka Industries  20285     48.97     2018-03-21\n",
      "1296  Wonka Industries  24473     48.97     2018-03-22\n",
      "1297  Wonka Industries  26210     43.98     2018-03-23\n",
      "1298  Wonka Industries  22391     43.42     2018-03-24\n",
      "1299  Wonka Industries  22109     43.25     2018-03-25\n",
      "1300  Wonka Industries  19001     47.54     2018-03-26\n",
      "1301  Wonka Industries  23210     47.00     2018-03-27\n",
      "1302  Wonka Industries  19745     45.30     2018-03-28\n",
      "1303  Wonka Industries  22700     46.47     2018-03-29\n",
      "1304  Wonka Industries  21187     45.14     2018-03-30\n",
      "\n",
      "[1305 rows x 4 columns]\n"
     ]
    }
   ],
   "source": [
    "conn = psycopg2.connect() #removed information\n",
    "cur=conn.cursor()\n",
    "cur.execute(\"\\\n",
    "SELECT company_name, SUM(duration) AS duration, \\\n",
    "ROUND(AVG(interpreter_hold_time), 2) AS hold_time, TO_CHAR(call_start,'YYYY-MM-DD') AS date \\\n",
    "FROM call_data \\\n",
    "GROUP BY company_name, date\")\n",
    "rows=cur.fetchall()\n",
    "df3_1=pd.DataFrame(rows)\n",
    "df3_1.columns=[desc[0] for desc in cur.description]\n",
    "print(df3_1)"
   ]
  },
  {
   "cell_type": "code",
   "execution_count": 274,
   "metadata": {},
   "outputs": [
    {
     "data": {
      "image/png": "[encoded data removed]",
      "text/plain": [
       "<Figure size 432x288 with 1 Axes>"
      ]
     },
     "metadata": {
      "needs_background": "light"
     },
     "output_type": "display_data"
    }
   ],
   "source": [
    "fig, ax = plt.subplots()\n",
    "plt.plot_date(df3_1['date'], df3_1['hold_time'], xdate=True)\n",
    "a=pd.to_datetime((df3_1.date.min()))\n",
    "c=pd.to_datetime((df3_1.date.max()))\n",
    "b=a + (c - a)/2\n",
    "ax.set_xticks([0, 43, 87])\n",
    "ax.set_xticklabels([str(a), str(b), str(c)])\n",
    "ax.set_ylabel(\"Hold Time\")\n",
    "ax.set_xlabel(\"Date\")\n",
    "plt.show()"
   ]
  },
  {
   "cell_type": "code",
   "execution_count": 232,
   "metadata": {},
   "outputs": [
    {
     "data": {
      "image/png": "[encoded data removed]",
      "text/plain": [
       "<Figure size 432x288 with 1 Axes>"
      ]
     },
     "metadata": {
      "needs_background": "light"
     },
     "output_type": "display_data"
    }
   ],
   "source": [
    "df3_1['date']=pd.to_datetime(df3_1.date)\n",
    "#print(df3_1['date'])\n",
    "df3_1['date']=pd.to_numeric(df3_1.date)\n",
    "df3_1['hold_time']=pd.to_numeric(df3_1['hold_time'])\n",
    "ax = df3_1.boxplot(by='date', column='hold_time', rot=70)\n",
    "ax.set_xticks([0, 43, 87])\n",
    "ax.set_xticklabels([pd.to_datetime(df3_1.date.min()), pd.to_datetime(df3_1.date.max()/2), pd.to_datetime(df3_1.date.max())])\n",
    "plt.show()"
   ]
  },
  {
   "cell_type": "markdown",
   "metadata": {},
   "source": [
    "It appears that the average hold time has held roughly steady over the course of time.  There could be a slight periodic increase and decrease of average hold time depending on the date, but the uncertainty is large.    "
   ]
  },
  {
   "cell_type": "markdown",
   "metadata": {},
   "source": [
    "#### ii) ... creates output of the following, summing duration and averaging hold time for each language by day in the data set:\n",
    "#### Language | Duration | Hold Time | Date"
   ]
  },
  {
   "cell_type": "code",
   "execution_count": 130,
   "metadata": {},
   "outputs": [
    {
     "name": "stdout",
     "output_type": "stream",
     "text": [
      "       language  duration hold_time        date\n",
      "0     Afrikaans  2074      41.22     2018-01-01\n",
      "1     Afrikaans  2057      51.90     2018-01-02\n",
      "2     Afrikaans  2114      49.00     2018-01-03\n",
      "3     Afrikaans  2660      50.56     2018-01-04\n",
      "4     Afrikaans  1936      44.70     2018-01-05\n",
      "5     Afrikaans  2510      48.38     2018-01-06\n",
      "6     Afrikaans  2256      49.95     2018-01-07\n",
      "7     Afrikaans  1925      50.37     2018-01-08\n",
      "8     Afrikaans  3641      48.20     2018-01-09\n",
      "9     Afrikaans  2957      53.39     2018-01-10\n",
      "10    Afrikaans  3360      47.43     2018-01-11\n",
      "11    Afrikaans  2881      52.44     2018-01-12\n",
      "12    Afrikaans  2643      48.75     2018-01-13\n",
      "13    Afrikaans  1692      49.00     2018-01-14\n",
      "14    Afrikaans  3255      42.04     2018-01-15\n",
      "15    Afrikaans  1827      44.70     2018-01-16\n",
      "16    Afrikaans  2428      49.50     2018-01-17\n",
      "17    Afrikaans  2647      45.96     2018-01-18\n",
      "18    Afrikaans  2591      46.59     2018-01-19\n",
      "19    Afrikaans  2148      49.27     2018-01-20\n",
      "20    Afrikaans  3151      42.21     2018-01-21\n",
      "21    Afrikaans  2154      42.48     2018-01-22\n",
      "22    Afrikaans  1297      49.00     2018-01-23\n",
      "23    Afrikaans  1996      41.06     2018-01-24\n",
      "24    Afrikaans  2005      41.55     2018-01-25\n",
      "25    Afrikaans  1963      39.90     2018-01-26\n",
      "26    Afrikaans  3353      50.31     2018-01-27\n",
      "27    Afrikaans  2329      39.89     2018-01-28\n",
      "28    Afrikaans  2815      43.22     2018-01-29\n",
      "29    Afrikaans  2805      46.96     2018-01-30\n",
      "...         ...   ...        ...            ...\n",
      "8409  Zulu       2813      49.72     2018-03-01\n",
      "8410  Zulu       4197      42.37     2018-03-02\n",
      "8411  Zulu       2392      51.91     2018-03-03\n",
      "8412  Zulu       2296      53.57     2018-03-04\n",
      "8413  Zulu       1764      34.68     2018-03-05\n",
      "8414  Zulu       2612      40.56     2018-03-06\n",
      "8415  Zulu       2289      37.46     2018-03-07\n",
      "8416  Zulu       2004      45.09     2018-03-08\n",
      "8417  Zulu       3399      51.03     2018-03-09\n",
      "8418  Zulu       2706      36.92     2018-03-10\n",
      "8419  Zulu       2300      51.32     2018-03-11\n",
      "8420  Zulu       2766      45.00     2018-03-12\n",
      "8421  Zulu       2981      47.87     2018-03-13\n",
      "8422  Zulu       2490      46.58     2018-03-14\n",
      "8423  Zulu       2352      50.91     2018-03-15\n",
      "8424  Zulu       2040      47.32     2018-03-16\n",
      "8425  Zulu       1523      45.71     2018-03-17\n",
      "8426  Zulu       2171      48.78     2018-03-18\n",
      "8427  Zulu       3153      41.91     2018-03-19\n",
      "8428  Zulu       3424      42.68     2018-03-20\n",
      "8429  Zulu       2271      39.61     2018-03-21\n",
      "8430  Zulu       3298      41.52     2018-03-22\n",
      "8431  Zulu       3350      45.68     2018-03-23\n",
      "8432  Zulu       2817      47.93     2018-03-24\n",
      "8433  Zulu       1715      42.95     2018-03-25\n",
      "8434  Zulu       1777      44.77     2018-03-26\n",
      "8435  Zulu       2511      41.77     2018-03-27\n",
      "8436  Zulu       2488      46.48     2018-03-28\n",
      "8437  Zulu       2111      41.94     2018-03-29\n",
      "8438  Zulu       2131      57.45     2018-03-30\n",
      "\n",
      "[8439 rows x 4 columns]\n"
     ]
    }
   ],
   "source": [
    "cur.close()\n",
    "cur=conn.cursor()\n",
    "cur.execute(\"\\\n",
    "SELECT language, SUM(duration) AS duration, \\\n",
    "ROUND(AVG(interpreter_hold_time), 2) AS hold_time, \\\n",
    "TO_CHAR(call_start,'YYYY-MM-DD') AS date \\\n",
    "FROM call_data \\\n",
    "GROUP BY language, date\")\n",
    "rows=cur.fetchall()\n",
    "df3_2=pd.DataFrame(rows)\n",
    "df3_2.columns=[desc[0] for desc in cur.description]\n",
    "print(df3_2)"
   ]
  },
  {
   "cell_type": "markdown",
   "metadata": {},
   "source": [
    "Looking at correlation between duration and hold time to see if there is a correlation between how long a call lasts and how long the hold time is.  First break it down to languages since the hold time for one language can be high while another is low."
   ]
  },
  {
   "cell_type": "code",
   "execution_count": 290,
   "metadata": {
    "scrolled": true
   },
   "outputs": [
    {
     "name": "stdout",
     "output_type": "stream",
     "text": [
      "['Dhivehi' 'Indonesian' 'Somali' 'Montenegrin' 'Tajik' 'Moldovan'\n",
      " 'West Frisian' 'Dari' 'Malayalam' 'Marathi' 'Danish' 'Chinese' 'Amharic'\n",
      " 'Papiamento' 'Assamese' 'Spanish' 'Belarusian' 'Albanian' 'Catalan'\n",
      " 'Haitian Creole' 'Kyrgyz' 'Guaraní' 'Gagauz' 'Tok Pisin' 'Punjabi'\n",
      " 'Polish' 'Macedonian' 'Māori' 'Italian' 'Croatian' 'Lithuanian'\n",
      " 'Estonian' 'English' 'Latvian' 'Luxembourgish' 'Malay' 'Tswana' 'Fijian'\n",
      " 'Thai' 'Bosnian' 'Hungarian' 'Ndebele' 'Bulgarian' 'Aymara' 'Hiri Motu'\n",
      " 'Filipino' 'Bengali' 'French' 'German' 'Khmer' 'Czech' 'Kashmiri'\n",
      " 'Hebrew' 'Korean' 'Greek' 'Telugu' 'Portuguese' 'Zulu' 'Afrikaans'\n",
      " 'Kurdish' 'Icelandic' 'Malagasy' 'Bislama' 'Japanese' 'Sotho' 'Swedish'\n",
      " 'Dzongkha' 'Finnish' 'Irish Gaelic' 'Yiddish' 'Nepali' 'Kazakh' 'Dutch'\n",
      " 'Arabic' 'Pashto' 'Hindi' 'Tamil' 'Swati' 'Quechua' 'Tsonga' 'Armenian'\n",
      " 'Burmese' 'Mongolian' 'Romanian' 'Lao' 'Norwegian' 'Kannada' 'Swahili'\n",
      " 'New Zealand Sign Language' 'Maltese' 'Persian' 'Azeri' 'Gujarati'\n",
      " 'Georgian' 'Oriya' 'Northern Sotho' 'Tetum']\n"
     ]
    }
   ],
   "source": [
    "languageSet=np.array(list(set(df3_2['language'])))\n",
    "print(languageSet)"
   ]
  },
  {
   "cell_type": "markdown",
   "metadata": {},
   "source": [
    "Looking at correlations between call duration and average hold time by language:"
   ]
  },
  {
   "cell_type": "code",
   "execution_count": 328,
   "metadata": {},
   "outputs": [
    {
     "data": {
      "image/png": "[encoded data removed]",
      "text/plain": [
       "<Figure size 432x288 with 1 Axes>"
      ]
     },
     "metadata": {
      "needs_background": "light"
     },
     "output_type": "display_data"
    },
    {
     "data": {
      "image/png": "[encoded data removed]",
      "text/plain": [
       "<Figure size 432x288 with 1 Axes>"
      ]
     },
     "metadata": {
      "needs_background": "light"
     },
     "output_type": "display_data"
    }
   ],
   "source": [
    "df_language={}\n",
    "df_language_corr={}\n",
    "df_language_duration_change={}\n",
    "df_language_hold_change={}\n",
    "df_language_change_corr={}\n",
    "for i in languageSet:\n",
    "    df_language[i] = df3_2[df3_2['language']==i]\n",
    "    df_language_corr[i]= df_language[i].duration.astype('float64').corr(df_language[i].hold_time.astype('float64'))\n",
    "    df_language_duration_change[i]=df_language[i]['duration'].astype('float64').pct_change()\n",
    "    df_language_hold_change[i]=df_language[i]['hold_time'].astype('float64').pct_change()\n",
    "    df_language_change_corr[i]=df_language_duration_change[i].corr(df_language_hold_change[i])\n",
    "#for key in df_language_corr.keys():\n",
    "#    print(key, df_language_corr[key])\n",
    "#    print(key, df_language_change_corr[key])\n",
    "plt.scatter(x=df_language_corr.keys(), y=df_language_corr.values())\n",
    "plt.xticks(rotation='vertical')\n",
    "plt.title(\"Correlation between total call duration and average hold time.\")\n",
    "plt.show()\n",
    "\n",
    "plt.scatter(x=df_language_change_corr.keys(), y=df_language_change_corr.values())\n",
    "plt.xticks(rotation='vertical')\n",
    "plt.title(\"Correlation between total call duration change and average hold time change.\")\n",
    "plt.show()"
   ]
  },
  {
   "cell_type": "code",
   "execution_count": 330,
   "metadata": {},
   "outputs": [
    {
     "name": "stdout",
     "output_type": "stream",
     "text": [
      "Moldovan 0.6170535091175928\n"
     ]
    }
   ],
   "source": [
    "for key in df_language_change_corr.keys():\n",
    "    if df_language_change_corr[key]>0.5:\n",
    "        print(key, df_language_change_corr[key])"
   ]
  },
  {
   "cell_type": "code",
   "execution_count": 333,
   "metadata": {},
   "outputs": [
    {
     "name": "stdout",
     "output_type": "stream",
     "text": [
      "(87, 4)\n"
     ]
    }
   ],
   "source": [
    "print(df3_2[df3_2['language']=='Moldovan'].shape)"
   ]
  },
  {
   "cell_type": "markdown",
   "metadata": {},
   "source": [
    "The correlation between call duration and hold time ranges between about -0.3 and 0.3, implying the two are not very correlated day by day.  With one exception, similar results are true for changes in duration and hold time.  The exception, Moldovan, has a relatively small number of calls so may be a statistical fluctuation as a correlation of 0.62 isn't very compelling, or it could be the case that there may not be many interpreters for that language."
   ]
  },
  {
   "cell_type": "markdown",
   "metadata": {},
   "source": [
    "Let's see if the days of the week matter for duration and hold time."
   ]
  },
  {
   "cell_type": "code",
   "execution_count": 355,
   "metadata": {},
   "outputs": [],
   "source": [
    "df3_1['Weekday'] = df3_1['date'].apply(lambda x: x.weekday())"
   ]
  },
  {
   "cell_type": "code",
   "execution_count": 369,
   "metadata": {},
   "outputs": [],
   "source": [
    "df3_1_Monday=df3_1[df3_1['Weekday']==0]\n",
    "df3_1_Tuesday=df3_1[df3_1['Weekday']==1]\n",
    "df3_1_Wednesday=df3_1[df3_1['Weekday']==2]\n",
    "df3_1_Thursday=df3_1[df3_1['Weekday']==3]\n",
    "df3_1_Friday=df3_1[df3_1['Weekday']==4]\n",
    "df3_1_Saturday=df3_1[df3_1['Weekday']==5]\n",
    "df3_1_Sunday=df3_1[df3_1['Weekday']==6]"
   ]
  },
  {
   "cell_type": "code",
   "execution_count": 371,
   "metadata": {},
   "outputs": [
    {
     "data": {
      "image/png": "[encoded data removed]",
      "text/plain": [
       "<Figure size 432x288 with 1 Axes>"
      ]
     },
     "metadata": {
      "needs_background": "light"
     },
     "output_type": "display_data"
    }
   ],
   "source": [
    "df3_1_WeekdayDuration={\n",
    "    'Monday':df3_1_Monday['duration'].mean(),\n",
    "    'Tuesday':df3_1_Tuesday['duration'].mean(),\n",
    "    'Wednesday':df3_1_Wednesday['duration'].mean(),\n",
    "    'Thursday':df3_1_Thursday['duration'].mean(),\n",
    "    'Friday':df3_1_Friday['duration'].mean(),\n",
    "    'Saturday':df3_1_Saturday['duration'].mean(),\n",
    "    'Sunday':df3_1_Sunday['duration'].mean()\n",
    "}\n",
    "\n",
    "plt.scatter(x=df3_1_WeekdayDuration.keys(), y=df3_1_WeekdayDuration.values())\n",
    "plt.xticks(rotation='vertical')\n",
    "plt.title(\"Average duration over days of the week\")\n",
    "plt.show()"
   ]
  },
  {
   "cell_type": "code",
   "execution_count": 372,
   "metadata": {},
   "outputs": [
    {
     "data": {
      "image/png": "[encoded data removed]",
      "text/plain": [
       "<Figure size 432x288 with 1 Axes>"
      ]
     },
     "metadata": {
      "needs_background": "light"
     },
     "output_type": "display_data"
    }
   ],
   "source": [
    "df3_1_WeekdayHold={\n",
    "    'Monday':df3_1_Monday['hold_time'].mean(),\n",
    "    'Tuesday':df3_1_Tuesday['hold_time'].mean(),\n",
    "    'Wednesday':df3_1_Wednesday['hold_time'].mean(),\n",
    "    'Thursday':df3_1_Thursday['hold_time'].mean(),\n",
    "    'Friday':df3_1_Friday['hold_time'].mean(),\n",
    "    'Saturday':df3_1_Saturday['hold_time'].mean(),\n",
    "    'Sunday':df3_1_Sunday['hold_time'].mean()\n",
    "}\n",
    "\n",
    "plt.scatter(x=df3_1_WeekdayHold.keys(), y=df3_1_WeekdayHold.values())\n",
    "plt.xticks(rotation='vertical')\n",
    "plt.title(\"Average hold time over days of the week\")\n",
    "plt.show()"
   ]
  },
  {
   "cell_type": "markdown",
   "metadata": {},
   "source": [
    "Interestingly, Wednesday has the lowest duration time and Thursday has the lowest hold time.  The weekends have about as high of duration as weekdays and Sundays have the longest hold time."
   ]
  },
  {
   "cell_type": "markdown",
   "metadata": {},
   "source": [
    "#### iii) ... creates output of the following, summing duration and averaging hold time for each language per day by hour in the data set:\n",
    "#### Language | Duration | Hold Time | Date | Hour of Day"
   ]
  },
  {
   "cell_type": "code",
   "execution_count": 139,
   "metadata": {},
   "outputs": [
    {
     "name": "stdout",
     "output_type": "stream",
     "text": [
      "         language  duration  hold_time        date hour_of_day\n",
      "0       Afrikaans  9         51         2018-01-01  01        \n",
      "1       Afrikaans  94        10         2018-01-01  03        \n",
      "2       Afrikaans  36        22         2018-01-01  04        \n",
      "3       Afrikaans  156       54         2018-01-01  05        \n",
      "4       Afrikaans  98        64         2018-01-01  07        \n",
      "5       Afrikaans  143       10         2018-01-01  08        \n",
      "6       Afrikaans  456       101        2018-01-01  10        \n",
      "7       Afrikaans  65        81         2018-01-01  11        \n",
      "8       Afrikaans  304       155        2018-01-01  12        \n",
      "9       Afrikaans  143       14         2018-01-01  13        \n",
      "10      Afrikaans  1         55         2018-01-01  14        \n",
      "11      Afrikaans  87        113        2018-01-01  15        \n",
      "12      Afrikaans  120       58         2018-01-01  16        \n",
      "13      Afrikaans  54        42         2018-01-01  17        \n",
      "14      Afrikaans  175       81         2018-01-01  18        \n",
      "15      Afrikaans  2         24         2018-01-01  20        \n",
      "16      Afrikaans  78        158        2018-01-01  21        \n",
      "17      Afrikaans  53        20         2018-01-01  22        \n",
      "18      Afrikaans  112       17         2018-01-02  01        \n",
      "19      Afrikaans  146       72         2018-01-02  02        \n",
      "20      Afrikaans  100       12         2018-01-02  03        \n",
      "21      Afrikaans  296       139        2018-01-02  07        \n",
      "22      Afrikaans  137       112        2018-01-02  08        \n",
      "23      Afrikaans  176       2          2018-01-02  09        \n",
      "24      Afrikaans  8         71         2018-01-02  10        \n",
      "25      Afrikaans  163       20         2018-01-02  11        \n",
      "26      Afrikaans  307       237        2018-01-02  12        \n",
      "27      Afrikaans  253       170        2018-01-02  17        \n",
      "28      Afrikaans  169       88         2018-01-02  19        \n",
      "29      Afrikaans  190       98         2018-01-02  22        \n",
      "...           ...  ...       ..                ...  ..        \n",
      "136661  Zulu       19        13         2018-03-28  22        \n",
      "136662  Zulu       11        61         2018-03-28  23        \n",
      "136663  Zulu       193       71         2018-03-29  00        \n",
      "136664  Zulu       87        36         2018-03-29  02        \n",
      "136665  Zulu       180       82         2018-03-29  03        \n",
      "136666  Zulu       92        31         2018-03-29  05        \n",
      "136667  Zulu       176       20         2018-03-29  07        \n",
      "136668  Zulu       108       11         2018-03-29  09        \n",
      "136669  Zulu       14        30         2018-03-29  10        \n",
      "136670  Zulu       323       93         2018-03-29  11        \n",
      "136671  Zulu       184       31         2018-03-29  12        \n",
      "136672  Zulu       187       38         2018-03-29  16        \n",
      "136673  Zulu       257       142        2018-03-29  18        \n",
      "136674  Zulu       135       37         2018-03-29  20        \n",
      "136675  Zulu       175       49         2018-03-29  22        \n",
      "136676  Zulu       192       62         2018-03-30  02        \n",
      "136677  Zulu       252       163        2018-03-30  03        \n",
      "136678  Zulu       71        61         2018-03-30  04        \n",
      "136679  Zulu       45        72         2018-03-30  05        \n",
      "136680  Zulu       80        75         2018-03-30  06        \n",
      "136681  Zulu       303       167        2018-03-30  08        \n",
      "136682  Zulu       122       44         2018-03-30  11        \n",
      "136683  Zulu       51        26         2018-03-30  12        \n",
      "136684  Zulu       209       124        2018-03-30  14        \n",
      "136685  Zulu       194       165        2018-03-30  15        \n",
      "136686  Zulu       119       60         2018-03-30  16        \n",
      "136687  Zulu       172       38         2018-03-30  17        \n",
      "136688  Zulu       163       43         2018-03-30  20        \n",
      "136689  Zulu       140       30         2018-03-30  21        \n",
      "136690  Zulu       18        134        2018-03-30  23        \n",
      "\n",
      "[136691 rows x 5 columns]\n"
     ]
    }
   ],
   "source": [
    "cur.close()\n",
    "cur=conn.cursor()\n",
    "cur.execute(\"\\\n",
    "SELECT language, SUM(duration) AS duration, \\\n",
    "SUM(interpreter_hold_time) AS hold_time, \\\n",
    "TO_CHAR(call_start,'YYYY-MM-DD') AS date, TO_CHAR(call_start,'hh24') AS hour_of_day \\\n",
    "FROM call_data \\\n",
    "GROUP BY language, date, TO_CHAR(call_start,'hh24')\")\n",
    "rows=cur.fetchall()\n",
    "df3_3=pd.DataFrame(rows)\n",
    "df3_3.columns=[desc[0] for desc in cur.description]\n",
    "print(df3_3)"
   ]
  },
  {
   "cell_type": "markdown",
   "metadata": {},
   "source": [
    "Let's look at just one example and see how Spanish interpreter duration and hold time changes over the course of a day. We've already seen above that weekends are about as busy weekdays so we won't separate those."
   ]
  },
  {
   "cell_type": "code",
   "execution_count": 381,
   "metadata": {},
   "outputs": [
    {
     "data": {
      "image/png": "[encoded data removed]",
      "text/plain": [
       "<Figure size 432x288 with 1 Axes>"
      ]
     },
     "metadata": {
      "needs_background": "light"
     },
     "output_type": "display_data"
    },
    {
     "data": {
      "image/png": "[encoded data removed]",
      "text/plain": [
       "<Figure size 432x288 with 1 Axes>"
      ]
     },
     "metadata": {
      "needs_background": "light"
     },
     "output_type": "display_data"
    }
   ],
   "source": [
    "df3_3_hours={}\n",
    "df3_3_hoursDuration={}\n",
    "df3_3_hoursHold={}\n",
    "df3_3_Spanish=df3_3[df3_3['language']=='Spanish']\n",
    "\n",
    "for i in range(24):\n",
    "    df3_3_hours[str(i)]=df3_3_Spanish[df3_3_Spanish['hour_of_day']==\"%02d\" % i]\n",
    "for key in df3_3_hours.keys():\n",
    "    df3_3_hoursDuration[key]=df3_3_hours[key]['duration'].mean()\n",
    "    df3_3_hoursHold[key]=df3_3_hours[key]['hold_time'].mean()\n",
    "plt.scatter(x=df3_3_hoursDuration.keys(), y=df3_3_hoursDuration.values())\n",
    "plt.xticks(rotation='vertical')\n",
    "plt.title(\"Average duration time for hours of the day for Spanish interpreters\")\n",
    "plt.show()\n",
    "\n",
    "plt.scatter(x=df3_3_hoursHold.keys(), y=df3_3_hoursHold.values())\n",
    "plt.xticks(rotation='vertical')\n",
    "plt.title(\"Average hold time for hours of the day for Spanish interpreters\")\n",
    "plt.show()"
   ]
  },
  {
   "cell_type": "markdown",
   "metadata": {},
   "source": [
    "The times with the longest duration are in the early morning, 1pm (after lunch) and at 7pm (after typical workday) and 11pm.  These also correlate with the longest hold times of the day, implying that the correlation calculation above didn't have the granularity to see the correlation between duration and hold time. Let's check that."
   ]
  },
  {
   "cell_type": "code",
   "execution_count": 386,
   "metadata": {},
   "outputs": [
    {
     "data": {
      "text/plain": [
       "0.939278318105805"
      ]
     },
     "execution_count": 386,
     "metadata": {},
     "output_type": "execute_result"
    }
   ],
   "source": [
    "durationList=[]\n",
    "holdList=[]\n",
    "for i in range(24):\n",
    "    durationList.append(df3_3_hoursDuration[str(i)])\n",
    "    holdList.append(df3_3_hoursHold[str(i)])\n",
    "np.corrcoef(durationList, holdList)[0, 1]\n"
   ]
  },
  {
   "cell_type": "markdown",
   "metadata": {},
   "source": [
    "This shows a strong correlation between duration and hold time when we look at hours in the day. The visuals also show what times of day could use more interpreters.  This analysis can also be expanded to look at specific days of the week, holidays, specific companies, etc, and can be used to determine when more resources are required to cut hold times."
   ]
  },
  {
   "cell_type": "code",
   "execution_count": 140,
   "metadata": {},
   "outputs": [],
   "source": [
    "df3_1.to_csv(\"IanSnyderThirdDeliverableParti\")\n",
    "df3_2.to_csv(\"IanSnyderThirdDeliverablePartii\")\n",
    "df3_3.to_csv(\"IanSnyderThirdDeliverablePartiii\")"
   ]
  },
  {
   "cell_type": "code",
   "execution_count": null,
   "metadata": {},
   "outputs": [],
   "source": []
  },
  {
   "cell_type": "code",
   "execution_count": null,
   "metadata": {},
   "outputs": [],
   "source": []
  }
 ],
 "metadata": {
  "kernelspec": {
   "display_name": "Python 3",
   "language": "python",
   "name": "python3"
  },
  "language_info": {
   "codemirror_mode": {
    "name": "ipython",
    "version": 3
   },
   "file_extension": ".py",
   "mimetype": "text/x-python",
   "name": "python",
   "nbconvert_exporter": "python",
   "pygments_lexer": "ipython3",
   "version": "3.6.5"
  }
 },
 "nbformat": 4,
 "nbformat_minor": 2
}
